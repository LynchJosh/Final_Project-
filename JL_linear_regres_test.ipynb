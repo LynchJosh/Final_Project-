{
 "cells": [
  {
   "cell_type": "code",
   "execution_count": 327,
   "metadata": {},
   "outputs": [],
   "source": [
    "import pandas as pd\n",
    "import numpy as np\n",
    "import matplotlib.pyplot as plt\n",
    "import seaborn as sns\n",
    "from sklearn.linear_model import LinearRegression\n",
    "from sklearn.model_selection import train_test_split\n",
    "from sklearn.preprocessing import StandardScaler,OneHotEncoder\n",
    "from sklearn.metrics import mean_absolute_error, mean_absolute_percentage_error\n",
    "from statsmodels.tsa.deterministic import DeterministicProcess"
   ]
  },
  {
   "cell_type": "code",
   "execution_count": 328,
   "metadata": {},
   "outputs": [
    {
     "data": {
      "text/html": [
       "<div>\n",
       "<style scoped>\n",
       "    .dataframe tbody tr th:only-of-type {\n",
       "        vertical-align: middle;\n",
       "    }\n",
       "\n",
       "    .dataframe tbody tr th {\n",
       "        vertical-align: top;\n",
       "    }\n",
       "\n",
       "    .dataframe thead th {\n",
       "        text-align: right;\n",
       "    }\n",
       "</style>\n",
       "<table border=\"1\" class=\"dataframe\">\n",
       "  <thead>\n",
       "    <tr style=\"text-align: right;\">\n",
       "      <th></th>\n",
       "      <th>Date</th>\n",
       "      <th>Open</th>\n",
       "      <th>High</th>\n",
       "      <th>Low</th>\n",
       "      <th>Close</th>\n",
       "      <th>Volume</th>\n",
       "      <th>Day</th>\n",
       "      <th>Week</th>\n",
       "      <th>Weekday</th>\n",
       "    </tr>\n",
       "  </thead>\n",
       "  <tbody>\n",
       "    <tr>\n",
       "      <th>0</th>\n",
       "      <td>1993-01-29</td>\n",
       "      <td>25.236169</td>\n",
       "      <td>25.236169</td>\n",
       "      <td>25.110616</td>\n",
       "      <td>25.218233</td>\n",
       "      <td>1003200</td>\n",
       "      <td>29</td>\n",
       "      <td>4</td>\n",
       "      <td>4</td>\n",
       "    </tr>\n",
       "    <tr>\n",
       "      <th>1</th>\n",
       "      <td>1993-02-01</td>\n",
       "      <td>25.236165</td>\n",
       "      <td>25.397591</td>\n",
       "      <td>25.236165</td>\n",
       "      <td>25.397591</td>\n",
       "      <td>480500</td>\n",
       "      <td>1</td>\n",
       "      <td>5</td>\n",
       "      <td>0</td>\n",
       "    </tr>\n",
       "    <tr>\n",
       "      <th>2</th>\n",
       "      <td>1993-02-02</td>\n",
       "      <td>25.379652</td>\n",
       "      <td>25.469333</td>\n",
       "      <td>25.325844</td>\n",
       "      <td>25.451397</td>\n",
       "      <td>201300</td>\n",
       "      <td>2</td>\n",
       "      <td>5</td>\n",
       "      <td>1</td>\n",
       "    </tr>\n",
       "    <tr>\n",
       "      <th>3</th>\n",
       "      <td>1993-02-03</td>\n",
       "      <td>25.487262</td>\n",
       "      <td>25.738368</td>\n",
       "      <td>25.469326</td>\n",
       "      <td>25.720432</td>\n",
       "      <td>529400</td>\n",
       "      <td>3</td>\n",
       "      <td>5</td>\n",
       "      <td>2</td>\n",
       "    </tr>\n",
       "    <tr>\n",
       "      <th>4</th>\n",
       "      <td>1993-02-04</td>\n",
       "      <td>25.810113</td>\n",
       "      <td>25.881857</td>\n",
       "      <td>25.523134</td>\n",
       "      <td>25.828049</td>\n",
       "      <td>531500</td>\n",
       "      <td>4</td>\n",
       "      <td>5</td>\n",
       "      <td>3</td>\n",
       "    </tr>\n",
       "  </tbody>\n",
       "</table>\n",
       "</div>"
      ],
      "text/plain": [
       "        Date       Open       High        Low      Close   Volume  Day  Week  \\\n",
       "0 1993-01-29  25.236169  25.236169  25.110616  25.218233  1003200   29     4   \n",
       "1 1993-02-01  25.236165  25.397591  25.236165  25.397591   480500    1     5   \n",
       "2 1993-02-02  25.379652  25.469333  25.325844  25.451397   201300    2     5   \n",
       "3 1993-02-03  25.487262  25.738368  25.469326  25.720432   529400    3     5   \n",
       "4 1993-02-04  25.810113  25.881857  25.523134  25.828049   531500    4     5   \n",
       "\n",
       "   Weekday  \n",
       "0        4  \n",
       "1        0  \n",
       "2        1  \n",
       "3        2  \n",
       "4        3  "
      ]
     },
     "execution_count": 328,
     "metadata": {},
     "output_type": "execute_result"
    }
   ],
   "source": [
    "spy_df = pd.read_csv(\"spy.csv\")\n",
    "spy_df['Date'] = pd.to_datetime(spy_df['Date'])\n",
    "spy_df.head()"
   ]
  },
  {
   "cell_type": "code",
   "execution_count": 329,
   "metadata": {},
   "outputs": [
    {
     "data": {
      "text/html": [
       "<div>\n",
       "<style scoped>\n",
       "    .dataframe tbody tr th:only-of-type {\n",
       "        vertical-align: middle;\n",
       "    }\n",
       "\n",
       "    .dataframe tbody tr th {\n",
       "        vertical-align: top;\n",
       "    }\n",
       "\n",
       "    .dataframe thead th {\n",
       "        text-align: right;\n",
       "    }\n",
       "</style>\n",
       "<table border=\"1\" class=\"dataframe\">\n",
       "  <thead>\n",
       "    <tr style=\"text-align: right;\">\n",
       "      <th></th>\n",
       "      <th>Date</th>\n",
       "      <th>Open</th>\n",
       "      <th>High</th>\n",
       "      <th>Low</th>\n",
       "      <th>Close</th>\n",
       "      <th>Volume</th>\n",
       "      <th>Day</th>\n",
       "      <th>Week</th>\n",
       "      <th>Weekday</th>\n",
       "    </tr>\n",
       "  </thead>\n",
       "  <tbody>\n",
       "    <tr>\n",
       "      <th>0</th>\n",
       "      <td>1993-01-29</td>\n",
       "      <td>25.236169</td>\n",
       "      <td>25.236169</td>\n",
       "      <td>25.110616</td>\n",
       "      <td>25.218233</td>\n",
       "      <td>1003200</td>\n",
       "      <td>29</td>\n",
       "      <td>4</td>\n",
       "      <td>4</td>\n",
       "    </tr>\n",
       "    <tr>\n",
       "      <th>1</th>\n",
       "      <td>1993-02-01</td>\n",
       "      <td>25.236165</td>\n",
       "      <td>25.397591</td>\n",
       "      <td>25.236165</td>\n",
       "      <td>25.397591</td>\n",
       "      <td>480500</td>\n",
       "      <td>1</td>\n",
       "      <td>5</td>\n",
       "      <td>0</td>\n",
       "    </tr>\n",
       "    <tr>\n",
       "      <th>2</th>\n",
       "      <td>1993-02-02</td>\n",
       "      <td>25.379652</td>\n",
       "      <td>25.469333</td>\n",
       "      <td>25.325844</td>\n",
       "      <td>25.451397</td>\n",
       "      <td>201300</td>\n",
       "      <td>2</td>\n",
       "      <td>5</td>\n",
       "      <td>1</td>\n",
       "    </tr>\n",
       "    <tr>\n",
       "      <th>3</th>\n",
       "      <td>1993-02-03</td>\n",
       "      <td>25.487262</td>\n",
       "      <td>25.738368</td>\n",
       "      <td>25.469326</td>\n",
       "      <td>25.720432</td>\n",
       "      <td>529400</td>\n",
       "      <td>3</td>\n",
       "      <td>5</td>\n",
       "      <td>2</td>\n",
       "    </tr>\n",
       "    <tr>\n",
       "      <th>4</th>\n",
       "      <td>1993-02-04</td>\n",
       "      <td>25.810113</td>\n",
       "      <td>25.881857</td>\n",
       "      <td>25.523134</td>\n",
       "      <td>25.828049</td>\n",
       "      <td>531500</td>\n",
       "      <td>4</td>\n",
       "      <td>5</td>\n",
       "      <td>3</td>\n",
       "    </tr>\n",
       "    <tr>\n",
       "      <th>...</th>\n",
       "      <td>...</td>\n",
       "      <td>...</td>\n",
       "      <td>...</td>\n",
       "      <td>...</td>\n",
       "      <td>...</td>\n",
       "      <td>...</td>\n",
       "      <td>...</td>\n",
       "      <td>...</td>\n",
       "      <td>...</td>\n",
       "    </tr>\n",
       "    <tr>\n",
       "      <th>7555</th>\n",
       "      <td>2023-01-31</td>\n",
       "      <td>401.130005</td>\n",
       "      <td>406.529999</td>\n",
       "      <td>400.769989</td>\n",
       "      <td>406.480011</td>\n",
       "      <td>86811800</td>\n",
       "      <td>31</td>\n",
       "      <td>5</td>\n",
       "      <td>1</td>\n",
       "    </tr>\n",
       "    <tr>\n",
       "      <th>7556</th>\n",
       "      <td>2023-02-01</td>\n",
       "      <td>405.209991</td>\n",
       "      <td>413.670013</td>\n",
       "      <td>402.350006</td>\n",
       "      <td>410.799988</td>\n",
       "      <td>101459200</td>\n",
       "      <td>1</td>\n",
       "      <td>5</td>\n",
       "      <td>2</td>\n",
       "    </tr>\n",
       "    <tr>\n",
       "      <th>7557</th>\n",
       "      <td>2023-02-02</td>\n",
       "      <td>414.859985</td>\n",
       "      <td>418.309998</td>\n",
       "      <td>412.880005</td>\n",
       "      <td>416.779999</td>\n",
       "      <td>101654500</td>\n",
       "      <td>2</td>\n",
       "      <td>5</td>\n",
       "      <td>3</td>\n",
       "    </tr>\n",
       "    <tr>\n",
       "      <th>7558</th>\n",
       "      <td>2023-02-03</td>\n",
       "      <td>411.589996</td>\n",
       "      <td>416.970001</td>\n",
       "      <td>411.089996</td>\n",
       "      <td>412.350006</td>\n",
       "      <td>94647400</td>\n",
       "      <td>3</td>\n",
       "      <td>5</td>\n",
       "      <td>4</td>\n",
       "    </tr>\n",
       "    <tr>\n",
       "      <th>7559</th>\n",
       "      <td>2023-02-06</td>\n",
       "      <td>409.790009</td>\n",
       "      <td>411.290009</td>\n",
       "      <td>408.100006</td>\n",
       "      <td>409.829987</td>\n",
       "      <td>60295300</td>\n",
       "      <td>6</td>\n",
       "      <td>6</td>\n",
       "      <td>0</td>\n",
       "    </tr>\n",
       "  </tbody>\n",
       "</table>\n",
       "<p>7560 rows × 9 columns</p>\n",
       "</div>"
      ],
      "text/plain": [
       "           Date        Open        High         Low       Close     Volume  \\\n",
       "0    1993-01-29   25.236169   25.236169   25.110616   25.218233    1003200   \n",
       "1    1993-02-01   25.236165   25.397591   25.236165   25.397591     480500   \n",
       "2    1993-02-02   25.379652   25.469333   25.325844   25.451397     201300   \n",
       "3    1993-02-03   25.487262   25.738368   25.469326   25.720432     529400   \n",
       "4    1993-02-04   25.810113   25.881857   25.523134   25.828049     531500   \n",
       "...         ...         ...         ...         ...         ...        ...   \n",
       "7555 2023-01-31  401.130005  406.529999  400.769989  406.480011   86811800   \n",
       "7556 2023-02-01  405.209991  413.670013  402.350006  410.799988  101459200   \n",
       "7557 2023-02-02  414.859985  418.309998  412.880005  416.779999  101654500   \n",
       "7558 2023-02-03  411.589996  416.970001  411.089996  412.350006   94647400   \n",
       "7559 2023-02-06  409.790009  411.290009  408.100006  409.829987   60295300   \n",
       "\n",
       "      Day  Week  Weekday  \n",
       "0      29     4        4  \n",
       "1       1     5        0  \n",
       "2       2     5        1  \n",
       "3       3     5        2  \n",
       "4       4     5        3  \n",
       "...   ...   ...      ...  \n",
       "7555   31     5        1  \n",
       "7556    1     5        2  \n",
       "7557    2     5        3  \n",
       "7558    3     5        4  \n",
       "7559    6     6        0  \n",
       "\n",
       "[7560 rows x 9 columns]"
      ]
     },
     "execution_count": 329,
     "metadata": {},
     "output_type": "execute_result"
    }
   ],
   "source": [
    "spy_df.dropna()\n"
   ]
  },
  {
   "cell_type": "code",
   "execution_count": 330,
   "metadata": {},
   "outputs": [],
   "source": [
    "y = spy_df['Close']\n",
    "dp = DeterministicProcess(index=y.index, order=3)\n",
    "X = dp.in_sample()"
   ]
  },
  {
   "cell_type": "code",
   "execution_count": 331,
   "metadata": {},
   "outputs": [],
   "source": [
    "model = LinearRegression()"
   ]
  },
  {
   "cell_type": "code",
   "execution_count": 332,
   "metadata": {},
   "outputs": [
    {
     "data": {
      "text/plain": [
       "LinearRegression()"
      ]
     },
     "execution_count": 332,
     "metadata": {},
     "output_type": "execute_result"
    }
   ],
   "source": [
    "model.fit(X,y)"
   ]
  },
  {
   "cell_type": "code",
   "execution_count": 333,
   "metadata": {},
   "outputs": [],
   "source": [
    "y_pred = pd.Series(model.predict(X), index=X.index)"
   ]
  },
  {
   "cell_type": "code",
   "execution_count": 334,
   "metadata": {},
   "outputs": [],
   "source": [
    "spy_df = pd.concat([X, y_pred.rename('y_pred')], axis=1)"
   ]
  },
  {
   "cell_type": "code",
   "execution_count": 335,
   "metadata": {},
   "outputs": [
    {
     "data": {
      "image/png": "[encoded data removed]",
      "text/plain": [
       "<Figure size 640x480 with 1 Axes>"
      ]
     },
     "metadata": {},
     "output_type": "display_data"
    }
   ],
   "source": [
    "ax = y.plot(alpha=0.5, title=\"Time plot of SPY Closing Price over its history\", ylabel=\"Close\")\n",
    "ax = y_pred.plot(ax=ax, linewidth=3, label=\"Trend\", color='Black')\n",
    "ax.legend()\n",
    "ax.grid(True)"
   ]
  },
  {
   "cell_type": "code",
   "execution_count": 336,
   "metadata": {},
   "outputs": [
    {
     "data": {
      "text/plain": [
       "0.9709195000333578"
      ]
     },
     "execution_count": 336,
     "metadata": {},
     "output_type": "execute_result"
    }
   ],
   "source": [
    "model.score(X,y)"
   ]
  },
  {
   "cell_type": "code",
   "execution_count": 345,
   "metadata": {},
   "outputs": [
    {
     "data": {
      "text/plain": [
       "7685    482.267152\n",
       "7686    482.502541\n",
       "7687    482.738023\n",
       "7688    482.973598\n",
       "7689    483.209267\n",
       "dtype: float64"
      ]
     },
     "execution_count": 345,
     "metadata": {},
     "output_type": "execute_result"
    }
   ],
   "source": [
    "# 6 months\n",
    "future = dp.out_of_sample(steps=130)\n",
    "y_future = pd.Series(model.predict(future), index=future.index)\n",
    "y_future.tail(1)"
   ]
  },
  {
   "cell_type": "code",
   "execution_count": 338,
   "metadata": {},
   "outputs": [
    {
     "data": {
      "text/plain": [
       "7819    514.64856\n",
       "dtype: float64"
      ]
     },
     "execution_count": 338,
     "metadata": {},
     "output_type": "execute_result"
    }
   ],
   "source": [
    "# 1 year \n",
    "future = dp.out_of_sample(steps=260)\n",
    "y_future = pd.Series(model.predict(future), index=future.index)\n",
    "y_future.tail(1)"
   ]
  },
  {
   "cell_type": "code",
   "execution_count": 339,
   "metadata": {},
   "outputs": [
    {
     "data": {
      "text/plain": [
       "8859    827.96084\n",
       "dtype: float64"
      ]
     },
     "execution_count": 339,
     "metadata": {},
     "output_type": "execute_result"
    }
   ],
   "source": [
    "# 5 years\n",
    "future = dp.out_of_sample(steps=1300)\n",
    "y_future = pd.Series(model.predict(future), index=future.index)\n",
    "y_future.tail(1)"
   ]
  },
  {
   "cell_type": "code",
   "execution_count": 340,
   "metadata": {},
   "outputs": [
    {
     "data": {
      "text/plain": [
       "10159    1397.656428\n",
       "dtype: float64"
      ]
     },
     "execution_count": 340,
     "metadata": {},
     "output_type": "execute_result"
    }
   ],
   "source": [
    "# 10 years\n",
    "future = dp.out_of_sample(steps=2600)\n",
    "y_future = pd.Series(model.predict(future), index=future.index)\n",
    "y_future.tail(1)"
   ]
  },
  {
   "cell_type": "code",
   "execution_count": 341,
   "metadata": {},
   "outputs": [
    {
     "data": {
      "text/plain": [
       "11459    2203.76962\n",
       "dtype: float64"
      ]
     },
     "execution_count": 341,
     "metadata": {},
     "output_type": "execute_result"
    }
   ],
   "source": [
    "# 15 years\n",
    "future = dp.out_of_sample(steps=3900)\n",
    "y_future = pd.Series(model.predict(future), index=future.index)\n",
    "y_future.tail(1)"
   ]
  },
  {
   "cell_type": "code",
   "execution_count": 342,
   "metadata": {},
   "outputs": [
    {
     "data": {
      "text/plain": [
       "12759    3287.634472\n",
       "dtype: float64"
      ]
     },
     "execution_count": 342,
     "metadata": {},
     "output_type": "execute_result"
    }
   ],
   "source": [
    "# 20 years\n",
    "future = dp.out_of_sample(steps=5200)\n",
    "y_future = pd.Series(model.predict(future), index=future.index)\n",
    "y_future.tail(1)"
   ]
  },
  {
   "cell_type": "code",
   "execution_count": 343,
   "metadata": {},
   "outputs": [
    {
     "data": {
      "text/plain": [
       "17959    11227.291589\n",
       "dtype: float64"
      ]
     },
     "execution_count": 343,
     "metadata": {},
     "output_type": "execute_result"
    }
   ],
   "source": [
    "# 40 years\n",
    "future = dp.out_of_sample(steps=10400)\n",
    "y_future = pd.Series(model.predict(future), index=future.index)\n",
    "y_future.tail(1)"
   ]
  },
  {
   "cell_type": "code",
   "execution_count": 344,
   "metadata": {},
   "outputs": [
    {
     "data": {
      "text/plain": [
       "7581    458.292899\n",
       "dtype: float64"
      ]
     },
     "execution_count": 344,
     "metadata": {},
     "output_type": "execute_result"
    }
   ],
   "source": [
    "# # 22 days \n",
    "# future = dp.out_of_sample(steps=22)\n",
    "# y_future = pd.Series(model.predict(future), index=future.index)\n",
    "# y_future.tail(1)"
   ]
  },
  {
   "cell_type": "code",
   "execution_count": null,
   "metadata": {},
   "outputs": [],
   "source": []
  },
  {
   "cell_type": "code",
   "execution_count": null,
   "metadata": {},
   "outputs": [],
   "source": []
  },
  {
   "cell_type": "code",
   "execution_count": null,
   "metadata": {},
   "outputs": [],
   "source": []
  },
  {
   "cell_type": "code",
   "execution_count": null,
   "metadata": {},
   "outputs": [],
   "source": []
  }
 ],
 "metadata": {
  "kernelspec": {
   "display_name": "mlenv",
   "language": "python",
   "name": "mlenv"
  },
  "language_info": {
   "codemirror_mode": {
    "name": "ipython",
    "version": 3
   },
   "file_extension": ".py",
   "mimetype": "text/x-python",
   "name": "python",
   "nbconvert_exporter": "python",
   "pygments_lexer": "ipython3",
   "version": "3.7.13"
  },
  "orig_nbformat": 4,
  "vscode": {
   "interpreter": {
    "hash": "f5a88cbb033e29d1c05d6087154745fcc2ec779b94c48d3537eb0d4a35fc511a"
   }
  }
 },
 "nbformat": 4,
 "nbformat_minor": 2
}
