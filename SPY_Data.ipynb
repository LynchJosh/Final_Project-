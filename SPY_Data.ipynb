{
 "cells": [
  {
   "cell_type": "code",
   "execution_count": null,
   "id": "92337048-2a22-4421-8be8-50c9c3ac4f0f",
   "metadata": {},
   "outputs": [],
   "source": [
    "import pandas as pd\n",
    "import yfinance as yf\n",
    "\n",
    "# Define start and end dates\n",
    "start_date = \"1993-01-01\"\n",
    "end_date = \"2023-02-28\"\n",
    "\n",
    "# Download data from Yahoo Finance API\n",
    "spy_data = yf.download(\"SPY\", start=start_date, end=end_date, interval=\"1wk\")\n",
    "\n",
    "# Convert the data to a DataFrame\n",
    "spy_df = pd.DataFrame(spy_data)\n",
    "\n",
    "# Save the DataFrame to a CSV file\n",
    "spy_df.to_csv(\"SPY500_stock_price.csv\")"
   ]
  }
 ],
 "metadata": {
  "kernelspec": {
   "display_name": "PythonData",
   "language": "python",
   "name": "pythondata"
  },
  "language_info": {
   "codemirror_mode": {
    "name": "ipython",
    "version": 3
   },
   "file_extension": ".py",
   "mimetype": "text/x-python",
   "name": "python",
   "nbconvert_exporter": "python",
   "pygments_lexer": "ipython3",
   "version": "3.9.12"
  }
 },
 "nbformat": 4,
 "nbformat_minor": 5
}
