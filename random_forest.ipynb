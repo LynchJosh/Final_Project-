{
 "cells": [
  {
   "cell_type": "code",
   "execution_count": 1,
   "id": "92b06d38-4822-40f2-b1e6-888209417cdd",
   "metadata": {},
   "outputs": [],
   "source": [
    "import pandas as pd\n",
    "from sklearn.model_selection import train_test_split\n",
    "from sklearn.preprocessing import StandardScaler,OneHotEncoder,MinMaxScaler\n",
    "import pandas as pd\n",
    "import tensorflow as tf\n",
    "import os\n",
    "from tensorflow.keras.callbacks import ModelCheckpoint\n",
    "import pandas as pd\n",
    "import datetime as dt\n",
    "import matplotlib.pyplot as plt\n",
    "from keras.utils import plot_model"
   ]
  },
  {
   "cell_type": "code",
   "execution_count": 2,
   "id": "6f1a60bc-befd-4ca8-b80d-5565473ae72e",
   "metadata": {},
   "outputs": [],
   "source": [
    "df = pd.read_excel('SPY500_stock_price_multiple_variables_1_3.xlsx', sheet_name='SPY500_stock_price')"
   ]
  },
  {
   "cell_type": "code",
   "execution_count": 4,
   "id": "c9101436-b679-4555-9d91-8be6dfa07f51",
   "metadata": {
    "tags": []
   },
   "outputs": [],
   "source": [
    "data = df.drop(['Date_Text','Open','High','Low','Adj Close','Volume','Month','Day','Year','Quarter','YM','GDP_Change','Date',],axis=1)"
   ]
  },
  {
   "cell_type": "code",
   "execution_count": 5,
   "id": "bc2f24a0-44b2-478e-9a72-0d5301c240fc",
   "metadata": {
    "tags": []
   },
   "outputs": [
    {
     "name": "stdout",
     "output_type": "stream",
     "text": [
      "Mean squared error: 15.696007417309517\n",
      "R2 score: 0.9981982254072653\n"
     ]
    }
   ],
   "source": [
    "import pandas as pd\n",
    "from sklearn.ensemble import RandomForestRegressor\n",
    "from sklearn.model_selection import train_test_split\n",
    "from sklearn.metrics import mean_squared_error, r2_score\n",
    "\n",
    "# Split the data into training and testing sets\n",
    "X = data[['Date_Num','GDP','DXY','UNRATE','PAYEMS','CPIAUCSL','FEDFUNDS']]\n",
    "y = data['Close']\n",
    "X_train, X_test, y_train, y_test = train_test_split(X, y, test_size=0.2, random_state=42)\n",
    "\n",
    "# Train the random forest model\n",
    "rf = RandomForestRegressor(n_estimators=100, random_state=42)\n",
    "rf.fit(X_train, y_train)\n",
    "\n",
    "# Make predictions on the test set\n",
    "y_pred = rf.predict(X_test)\n",
    "\n",
    "# Evaluate the model\n",
    "mse = mean_squared_error(y_test, y_pred)\n",
    "r2 = r2_score(y_test, y_pred)\n",
    "print('Mean squared error:', mse)\n",
    "print('R2 score:', r2)\n",
    "\n"
   ]
  },
  {
   "cell_type": "code",
   "execution_count": 17,
   "id": "6d1c8855-050c-4719-b7d3-25068127880d",
   "metadata": {},
   "outputs": [
    {
     "name": "stdout",
     "output_type": "stream",
     "text": [
      "Predicted price: 383.9819927978515\n"
     ]
    }
   ],
   "source": [
    "reference_date = dt.datetime(1993, 1, 25)  # Set the reference date to Jan 25, 1993\n",
    "Date_r = (dt.datetime(2023, 3, 1) - reference_date).days  # Calculate the number of days since the reference date\n",
    "\n",
    "# Create a new DataFrame with the same columns as X_train\n",
    "X_new = pd.DataFrame({'Date_Num': [Date_r],\n",
    "                      'GDP': [27746], \n",
    "                      'DXY': [104.87], \n",
    "                      'UNRATE': [3.4], \n",
    "                      'PAYEMS': [154556], \n",
    "                      'CPIAUCSL': [6.4], \n",
    "                      'FEDFUNDS': [4.57]})\n",
    "\n",
    "# Make a prediction using the trained model\n",
    "y_pred_new = rf.predict(X_new)\n",
    "\n",
    "# Print the predicted value\n",
    "print('Predicted price:', y_pred_new[0])"
   ]
  },
  {
   "cell_type": "code",
   "execution_count": 19,
   "id": "cd5c3b7c-cc8d-451c-8278-459fdd5433c5",
   "metadata": {},
   "outputs": [],
   "source": [
    "# ({'Date_Num': [Date_r],\n",
    "# 'GDP': [26746], \n",
    "# 'DXY': [104.87], \n",
    "# 'UNRATE': [3.4], \n",
    "# 'PAYEMS': [154556], \n",
    "# 'CPIAUCSL': [6.4], \n",
    "# 'FEDFUNDS': [4.57]})"
   ]
  },
  {
   "cell_type": "code",
   "execution_count": 22,
   "id": "e7442b12-3946-4a9b-88c6-eda5a0e7e8c4",
   "metadata": {},
   "outputs": [
    {
     "name": "stdout",
     "output_type": "stream",
     "text": [
      "Predicted price: 383.9819927978515\n"
     ]
    }
   ],
   "source": [
    "reference_date = dt.datetime(1993, 1, 25)  # Set the reference date to Jan 25, 1993\n",
    "Date_r = (dt.datetime(2022, 4, 4) - reference_date).days  # Calculate the number of days since the reference date\n",
    "# Make predictions on new data\n",
    "new_data = pd.DataFrame({'Date_Num': [Date_r],\n",
    "                      'GDP': [25248], \n",
    "                      'DXY': [98.63], \n",
    "                      'UNRATE': [3.6], \n",
    "                      'PAYEMS': [151678], \n",
    "                      'CPIAUCSL': [8.23], \n",
    "                      'FEDFUNDS': [0.33]})\n",
    "# Make a prediction using the trained model\n",
    "y_pred_new = rf.predict(X_new)\n",
    "\n",
    "# Print the predicted value\n",
    "print('Predicted price:', y_pred_new[0])"
   ]
  },
  {
   "cell_type": "code",
   "execution_count": 23,
   "id": "a33cc34d-0b71-4e6a-b7ff-8b82e9f3cf81",
   "metadata": {},
   "outputs": [
    {
     "name": "stdout",
     "output_type": "stream",
     "text": [
      "Predicted price: 383.9819927978515\n"
     ]
    }
   ],
   "source": [
    "reference_date = dt.datetime(1993, 1, 25)  # Set the reference date to Jan 25, 1993\n",
    "Date_r = (dt.datetime(2021, 5, 31) - reference_date).days  # Calculate the number of days since the reference date\n",
    "# Make predictions on new data\n",
    "new_data = pd.DataFrame({'Date_Num': [Date_r],\n",
    "                      'GDP': [23046.9], \n",
    "                      'DXY': [90.95], \n",
    "                      'UNRATE': [5.8], \n",
    "                      'PAYEMS': [145096], \n",
    "                      'CPIAUCSL': [4.92], \n",
    "                      'FEDFUNDS': [0.06]})\n",
    "# Make a prediction using the trained model\n",
    "y_pred_new = rf.predict(X_new)\n",
    "\n",
    "# Print the predicted value\n",
    "print('Predicted price:', y_pred_new[0])"
   ]
  }
 ],
 "metadata": {
  "kernelspec": {
   "display_name": "Python 3",
   "language": "python",
   "name": "python3"
  },
  "language_info": {
   "codemirror_mode": {
    "name": "ipython",
    "version": 3
   },
   "file_extension": ".py",
   "mimetype": "text/x-python",
   "name": "python",
   "nbconvert_exporter": "python",
   "pygments_lexer": "ipython3",
   "version": "3.7.13"
  }
 },
 "nbformat": 4,
 "nbformat_minor": 5
}
